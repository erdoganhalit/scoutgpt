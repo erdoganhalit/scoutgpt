{
 "cells": [
  {
   "cell_type": "code",
   "execution_count": 1,
   "metadata": {},
   "outputs": [],
   "source": [
    "from langchain.chains import GraphCypherQAChain\n",
    "from langchain_community.graphs import Neo4jGraph\n",
    "from langchain_openai import ChatOpenAI, OpenAI\n",
    "from langchain_community.chains.graph_qa import cypher\n",
    "from langchain.chains.llm import LLMChain\n",
    "from langchain.prompts import PromptTemplate\n",
    "from neo4j import GraphDatabase\n",
    "\n",
    "import pandas as pd\n",
    "from neo4j import GraphDatabase\n",
    "from datetime import datetime\n",
    "import ast\n",
    "\n",
    "# Initialize the Neo4j driver\n",
    "uri = \"neo4j+s://d1c92482.databases.neo4j.io\"\n",
    "username = \"neo4j\"\n",
    "password = \"H3mFJDVvmjPz1s5aDFi46XN8JFLGuYitPy6weie8stk\"\n",
    "driver = GraphDatabase.driver(uri, auth=(username, password))"
   ]
  },
  {
   "cell_type": "code",
   "execution_count": 2,
   "metadata": {},
   "outputs": [],
   "source": [
    "graph = Neo4jGraph(url=uri, username=\"neo4j\", password=password)"
   ]
  },
  {
   "cell_type": "markdown",
   "metadata": {},
   "source": [
    "# General"
   ]
  },
  {
   "cell_type": "code",
   "execution_count": 86,
   "metadata": {},
   "outputs": [],
   "source": [
    "BASIC_CONTEXT = \"\"\"\n",
    "Some extra information about the graph database:\n",
    "All Position Nodes:\n",
    "(:Position {{POSITION_CODE: \"MC\", MAIN_POSITION: \"Midfielder\", ALIAS: \"Number 8\", POSITION_NAME: \"Central Midfield\"}})\n",
    "(:Position {{POSITION_CODE: \"DM\", MAIN_POSITION: \"Midfielder\", ALIAS: \"Number 6\", POSITION_NAME: \"Defensive Midfield\"}})\n",
    "(:Position {{POSITION_CODE: \"ST\", MAIN_POSITION: \"Forward\", ALIAS: \"Number 9\", POSITION_NAME: \"Centre Forward\"}})\n",
    "(:Position {{POSITION_CODE: \"DL\", MAIN_POSITION: \"Defender\", ALIAS: NaN, POSITION_NAME: \"Left Back\"}})\n",
    "(:Position {{POSITION_CODE: \"LW\", MAIN_POSITION: \"Forward\", ALIAS: NaN, POSITION_NAME: \"Left Wing\"}})\n",
    "(:Position {{POSITION_CODE: \"GK\", MAIN_POSITION: \"Goalkeeper\", ALIAS: NaN, POSITION_NAME: \"Goalkeeper\"}})\n",
    "(:Position {{POSITION_CODE: \"MR\", MAIN_POSITION: \"Midfielder\", ALIAS: NaN, POSITION_NAME: \"Right Midfield\"}})\n",
    "(:Position {{POSITION_CODE: \"DC\", MAIN_POSITION: \"Defender\", ALIAS: NaN, POSITION_NAME: \"Centre Back\"}})\n",
    "(:Position {{POSITION_CODE: \"ML\", MAIN_POSITION: \"Midfielder\", ALIAS: NaN, POSITION_NAME: \"Left Midfield\"}})\n",
    "(:Position {{POSITION_CODE: \"RW\", MAIN_POSITION: \"Forward\", ALIAS: NaN, POSITION_NAME: \"Right Wing\"}})\n",
    "(:Position {{POSITION_CODE: \"DR\", MAIN_POSITION: \"Defender\", ALIAS: NaN, POSITION_NAME: \"Right Back\"}})\n",
    "(:Position {{POSITION_CODE: \"AM\", MAIN_POSITION: \"Midfielder\", ALIAS: \"Number 10\", POSITION_NAME: \"Attacking Midfield\"}})\n",
    "\n",
    "All Strength nodes:\n",
    "(:Strength {{STRENGTH: \"Aerial duels\"}})\n",
    "(:Strength {{STRENGTH: \"Ball control\"}})\n",
    "(:Strength {{STRENGTH: \"Positioning\"}})\n",
    "(:Strength {{STRENGTH: \"Tackling\"}})\n",
    "(:Strength {{STRENGTH: \"Runs out\"}})\n",
    "(:Strength {{STRENGTH: \"Discipline\"}})\n",
    "(:Strength {{STRENGTH: \"High pressing\"}})\n",
    "(:Strength {{STRENGTH: \"Finishing\"}})\n",
    "(:Strength {{STRENGTH: \"High claims\"}})\n",
    "(:Strength {{STRENGTH: \"Penalty taking\"}})\n",
    "(:Strength {{STRENGTH: \"Passing\"}})\n",
    "(:Strength {{STRENGTH: \"Long balls\"}})\n",
    "(:Strength {{STRENGTH: \"Ball interception\"}})\n",
    "(:Strength {{STRENGTH: \"Anchor play\"}})\n",
    "(:Strength {{STRENGTH: \"Direct free kicks\"}})\n",
    "(:Strength {{STRENGTH: \"Long shots saving\"}})\n",
    "(:Strength {{STRENGTH: \"Reflexes\"}})\n",
    "(:Strength {{STRENGTH: \"Long shots\"}})\n",
    "(:Strength {{STRENGTH: \"Handling\"}})\n",
    "(:Strength {{STRENGTH: \"Playmaking\"}})\n",
    "(:Strength {{STRENGTH: \"Penalty saving\"}})\n",
    "(:Strength {{STRENGTH: \"Error proneness\"}})\n",
    "(:Strength {{STRENGTH: \"Consistency\"}})\n",
    "(:Strength {{STRENGTH: \"Ground duels\"}})\n",
    "\n",
    "Some Tournament nodes:\n",
    "(:Tournament {{TOURNAMENT_SLUG: \"european-championship\", COUNTRY: Europe, TOURNAMENT_ID: 1, TOURNAMENT_NAME: EURO}})\n",
    "(:Tournament {{TOURNAMENT_SLUG: \"trophee-des-champions\", COUNTRY: France, TOURNAMENT_ID: 339, TOURNAMENT_NAME: Trophée des Champions}})\n",
    "(:Tournament {{TOURNAMENT_SLUG: \"european-championship-qualification\", COUNTRY: Europe, TOURNAMENT_ID: 27, TOURNAMENT_NAME: EURO, Qualification}})\n",
    "(:Tournament {{TOURNAMENT_SLUG: \"ligue-1\", COUNTRY: France, TOURNAMENT_ID: 34, TOURNAMENT_NAME: Ligue 1}})\n",
    "(:Tournament {{TOURNAMENT_SLUG: \"uefa-champions-league\", COUNTRY: Europe, TOURNAMENT_ID: 7, TOURNAMENT_NAME: UEFA Champions League}})\n",
    "(:Tournament {{TOURNAMENT_SLUG: \"world-championship\", COUNTRY: World, TOURNAMENT_ID: 16, TOURNAMENT_NAME: World Championship}})\n",
    "(:Tournament {{TOURNAMENT_SLUG: \"uefa-nations-league\", COUNTRY: Europe, TOURNAMENT_ID: 10783, TOURNAMENT_NAME: UEFA Nations League}})\n",
    "(:Tournament {{TOURNAMENT_SLUG: \"world-championship-qual-uefa\", COUNTRY: Europe, TOURNAMENT_ID: 11, TOURNAMENT_NAME: World Championship Qual. UEFA}})\n",
    "(:Tournament {{TOURNAMENT_SLUG: \"coupe-de-france\", COUNTRY: France, TOURNAMENT_ID: 335, TOURNAMENT_NAME: Coupe de France}})\n",
    "(:Tournament {{TOURNAMENT_SLUG: \"coupe-de-la-ligue\", COUNTRY: France, TOURNAMENT_ID: 333, TOURNAMENT_NAME: Coupe de la Ligue}})\n",
    "(:Tournament {{TOURNAMENT_SLUG: \"u19-european-championship\", COUNTRY: Europe, TOURNAMENT_ID: 258, TOURNAMENT_NAME: U19 European Championship}})\n",
    "(:Tournament {{TOURNAMENT_SLUG: \"uefa-europa-leagu\"e, COUNTRY: Europe, TOURNAMENT_ID: 679, TOURNAMENT_NAME: UEFA Europa League}})\n",
    "(:Tournament {{TOURNAMENT_SLUG: \"copa-america\", COUNTRY: South America, TOURNAMENT_ID: 133, TOURNAMENT_NAME: Copa América}})\n",
    "(:Tournament {{TOURNAMENT_SLUG: \"supercopa-de-espana\", COUNTRY: Spain, TOURNAMENT_ID: 213, TOURNAMENT_NAME: Supercopa de Espana}})\n",
    "(:Tournament {{TOURNAMENT_SLUG: \"world-championship-qual-conmebol\", COUNTRY: South America, TOURNAMENT_ID: 295, TOURNAMENT_NAME: World Championship Qual. CONMEBOL}})\n",
    "(:Tournament {{TOURNAMENT_SLUG: \"laliga\", COUNTRY: Spain, TOURNAMENT_ID: 8, TOURNAMENT_NAME: LaLiga}})\n",
    "(:Tournament {{TOURNAMENT_SLUG: \"club-world-championship\", COUNTRY: World, TOURNAMENT_ID: 357, TOURNAMENT_NAME: Club World Championship}})\n",
    "(:Tournament {{TOURNAMENT_SLUG: \"uefa-super-cup\", COUNTRY: Europe, TOURNAMENT_ID: 465, TOURNAMENT_NAME: UEFA Super Cup}})\n",
    "(:Tournament {{TOURNAMENT_SLUG: \"copa-del-rey\", COUNTRY: Spain, TOURNAMENT_ID: 329, TOURNAMENT_NAME: Copa del Rey}})\n",
    "(:Tournament {{TOURNAMENT_SLUG: \"brasileirao-serie-a\", COUNTRY: Brazil, TOURNAMENT_ID: 325, TOURNAMENT_NAME: Brasileirio Serie A}})\n",
    "(:Tournament {{TOURNAMENT_SLUG: \"bundesliga\", COUNTRY: Germany, TOURNAMENT_ID: 35, TOURNAMENT_NAME: Bundesliga}})\n",
    "(:Tournament {{TOURNAMENT_SLUG: \"championship\", COUNTRY: England, TOURNAMENT_ID: 18, TOURNAMENT_NAME: Championship}})\n",
    "(:Tournament {{TOURNAMENT_SLUG: \"trendyol-super-lig\", COUNTRY: Turkey, TOURNAMENT_ID: 52, TOURNAMENT_NAME: Trendyol Süper Lig}})\n",
    "(:Tournament {{TOURNAMENT_SLUG: \"uefa-europa-conference-league\", COUNTRY: Europe, TOURNAMENT_ID: 17015, TOURNAMENT_NAME: UEFA Europa Conference League}})\n",
    "(:Tournament {{TOURNAMENT_SLUG: \"serie-a\", COUNTRY: Italy, TOURNAMENT_ID: 23, TOURNAMENT_NAME: Serie A}})\n",
    "(:Tournament {{TOURNAMENT_SLUG: \"premier-league\", COUNTRY: England, TOURNAMENT_ID: 17, TOURNAMENT_NAME: Premier League}})\n",
    "(:Tournament {{TOURNAMENT_SLUG: \"olympic-games\", COUNTRY: World, TOURNAMENT_ID: 436, TOURNAMENT_NAME: Olympic Games}})\n",
    "(:Tournament {{TOURNAMENT_SLUG: \"laliga-2\", COUNTRY: Spain, TOURNAMENT_ID: 54, TOURNAMENT_NAME: LaLiga 2}})\n",
    "(:Tournament {{TOURNAMENT_SLUG: \"liga-portugal-betclic\", COUNTRY: Portugal, TOURNAMENT_ID: 238, TOURNAMENT_NAME: Liga Portugal Betclic}})\n",
    "(:Tournament {{TOURNAMENT_SLUG: \"ligue-2\", COUNTRY: France, TOURNAMENT_ID: 182, TOURNAMENT_NAME: Ligue 2}})\n",
    "(:Tournament {{TOURNAMENT_SLUG: \"premier-league\", COUNTRY: Ukraine, TOURNAMENT_ID: 218, TOURNAMENT_NAME: Ukrainian Premier League}})\n",
    "(:Tournament {{TOURNAMENT_SLUG: \"liga-portugal-2\", COUNTRY: Portugal, TOURNAMENT_ID: 239, TOURNAMENT_NAME: Liga Portugal 2}})\n",
    "(:Tournament {{TOURNAMENT_SLUG: \"eredivisie\", COUNTRY: Netherlands, TOURNAMENT_ID: 37, TOURNAMENT_NAME: Eredivisie}})\n",
    "(:Tournament {{TOURNAMENT_SLUG: \"eerste-divisie\", COUNTRY: Netherlands, TOURNAMENT_ID: 131, TOURNAMENT_NAME: Eerste Divisie}})\n",
    "(:Tournament {{TOURNAMENT_SLUG: \"primera-division\", COUNTRY: Uruguay, TOURNAMENT_ID: 278, TOURNAMENT_NAME: Uruguayan Primera Division}})\n",
    "(:Tournament {{TOURNAMENT_SLUG: \"1-nl\", COUNTRY: Croatia, TOURNAMENT_ID: 724, TOURNAMENT_NAME: 1. NL}})\n",
    "(:Tournament {{TOURNAMENT_SLUG: \"mls\", COUNTRY: USA, TOURNAMENT_ID: 242, TOURNAMENT_NAME: MLS}})\n",
    "(:Tournament {{TOURNAMENT_SLUG: \"superliga\", COUNTRY: Denmark, TOURNAMENT_ID: 39, TOURNAMENT_NAME: Danish Superliga}})\n",
    "(:Tournament {{TOURNAMENT_SLUG: \"liga-profesional-de-futbol\", COUNTRY: Argentina, TOURNAMENT_ID: 155, TOURNAMENT_NAME: Liga Profesional de Futbol}})\n",
    "(:Tournament {{TOURNAMENT_SLUG: \"pro-league\", COUNTRY: Belgium, TOURNAMENT_ID: 38, TOURNAMENT_NAME: Pro League}})\n",
    "(:Tournament {{TOURNAMENT_SLUG: \"bundesliga\", COUNTRY: Austria, TOURNAMENT_ID: 45, TOURNAMENT_NAME: Bundesliga}})\n",
    "(:Tournament {{TOURNAMENT_SLUG: \"premier-liga\", COUNTRY: Russia, TOURNAMENT_ID: 203, TOURNAMENT_NAME: Russian Premier League}})\n",
    "(:Tournament {{TOURNAMENT_SLUG: \"africa-cup-of-nations\", COUNTRY: Africa, TOURNAMENT_ID: 270, TOURNAMENT_NAME: Africa Cup of Nations}})\n",
    "(:Tournament {{TOURNAMENT_SLUG: \"africa-cup-of-nations-qual\", COUNTRY: Africa, TOURNAMENT_ID: 1848, TOURNAMENT_NAME: Africa Cup of Nations Qual.}})\n",
    "(:Tournament {{TOURNAMENT_SLUG: \"superliga\", COUNTRY: Romania, TOURNAMENT_ID: 152, TOURNAMENT_NAME: Romanian Super Liga}})\n",
    "(:Tournament {{TOURNAMENT_SLUG: \"mozzart-bet-superliga\", COUNTRY: Serbia, TOURNAMENT_ID: 210, TOURNAMENT_NAME: Mozzart Bet Superliga}})\n",
    "(:Tournament {{TOURNAMENT_SLUG: \"serie-b\", COUNTRY: Italy, TOURNAMENT_ID: 53, TOURNAMENT_NAME: Serie B}})\n",
    "(:Tournament {{TOURNAMENT_SLUG: \"premiership\", COUNTRY: Scotland, TOURNAMENT_ID: 36, TOURNAMENT_NAME: Scottish Premiership}})\n",
    "(:Tournament {{TOURNAMENT_SLUG: \"j1-league\", COUNTRY: Japan, TOURNAMENT_ID: 196, TOURNAMENT_NAME: J1 League}})\n",
    "(:Tournament {{TOURNAMENT_SLUG: \"saudi-pro-league\", COUNTRY: Saudi Arabia, TOURNAMENT_ID: 955, TOURNAMENT_NAME: Saudi Pro League}})\n",
    "(:Tournament {{TOURNAMENT_SLUG: \"eliteserien\", COUNTRY: Norway, TOURNAMENT_ID: 20, TOURNAMENT_NAME: Eliteserien}})\n",
    "(:Tournament {{TOURNAMENT_SLUG: \"trendyol-1lig\", COUNTRY: Turkey, TOURNAMENT_ID: 98, TOURNAMENT_NAME: Trendyol 1.Lig}})\n",
    "NOTE: Ligue 1 of France, Bundesliga of Germany, La Liga of Spain, Premier League of England, and Serie A of Italy are referred to as 'Top 5 Leagues'\n",
    "\"\"\""
   ]
  },
  {
   "cell_type": "code",
   "execution_count": 87,
   "metadata": {},
   "outputs": [],
   "source": [
    "from langchain_core.prompts.prompt import PromptTemplate\n",
    "\n",
    "GENERAL_CYPHER_TEMPLATE = \"\"\"Task:Generate Cypher statement to query a graph database. The database is of football (soccer) players data.\n",
    "Instructions:\n",
    "Use only the provided relationship types and properties in the schema.\n",
    "Do not use any other relationship types or properties that are not provided.\n",
    "Only apply filters on objective attributes mentioned below. If the user question includes subjective descriptions also mentioned below, ignore them.\n",
    "Subjective descriptions: fast, has pace, strong, etc.\n",
    "Schema:\n",
    "{schema}\n",
    "\n",
    "\"\"\"\n",
    "\n",
    "GENERAL_CYPHER_TEMPLATE_W_CONTEXT = GENERAL_CYPHER_TEMPLATE + BASIC_CONTEXT\n",
    "\n",
    "GENERAL_CYPHER_PROMPT = PromptTemplate(\n",
    "    input_variables=[\"schema\", \"question\"], template=GENERAL_CYPHER_TEMPLATE\n",
    ")\n",
    "\n",
    "GENERAL_CYPHER_PROMPT_W_CONTEXT = PromptTemplate(\n",
    "    input_variables=[\"schema\", \"question\"], template=GENERAL_CYPHER_TEMPLATE_W_CONTEXT\n",
    ")"
   ]
  },
  {
   "cell_type": "markdown",
   "metadata": {},
   "source": [
    "# ANALYZE"
   ]
  },
  {
   "cell_type": "markdown",
   "metadata": {},
   "source": [
    "## ANALYSIS PROMPTS"
   ]
  },
  {
   "cell_type": "code",
   "execution_count": 26,
   "metadata": {},
   "outputs": [],
   "source": [
    "ANALYSIS_CYPHER_COMMANDS = \"\"\"\n",
    " The question will be to analyze and report on one football player that the user asks for. \n",
    " The question will include the name of the player and you will search for it in PLAYER_NAME property of Player nodes. \n",
    " \n",
    " The user may or may not ask for specific aspects of the player. \n",
    " \n",
    " Below is a list of player aspects that user can ask for and relevant relationship types that holds data for that aspect.\n",
    "\n",
    " injuries (relationship) : HAD_INJURY {{INJURY_SEASON: STRING, INJURY_START_DATE: DATE, INJURY_FINISH_DATE: DATE, INJURY_DURATION: FLOAT, GAMES_MISSED_DURING_INJURY: FLOAT, CLUBS_DURING_INJURY: LIST}}\n",
    " ratings (relationship) : HAS_RATINGS {{RATING_COUNT: INTEGER, RATING_MEAN: FLOAT, RATING_STD_VAR: FLOAT}}\n",
    " attributes / characteristics (node properties) : Player {{ATTACKING: FLOAT, TECHNICAL: FLOAT, TACTICAL: INTEGER, DEFENDING: FLOAT, CREATIVITY: FLOAT}}\n",
    " Physical stats (relationship properties): PLAYED_IN_WITH_STATS {{totalDuelsWonPercentage , aerialDuelsWon , totalDuelsWon , duelLost , groundDuelsWonPercentage , groundDuelsWon}}\n",
    " Passing stats (relationship properties): PLAYED_IN_WITH_STATS {{expectedAssists , totalChippedPasses , totalCross , totalPasses , accuratePasses , totalLongBalls , accurateCrossesPercentage , accuratePassesPercentage , accurateOppositionHalfPasses , totalOwnHalfPasses , inaccuratePasses , accurateLongBallsPercentage , accurateChippedPasses , passToAssist , accurateCrosses , accurateLongBalls , accurateFinalThirdPasses , crossesNotClaimed}}\n",
    " Scoring stats (relationship properties): PLAYED_IN_WITH_STATS {{bigChancesMissed , attemptPenaltyTarget , attemptPenaltyPost , penaltyGoals , headedGoals , goals , penaltyConversion , goalsFromInsideTheBox , penaltiesTaken , goalsFromOutsideTheBox , goalsAssistsSum , scoringFrequency , goalConversionPercentage , goalKicks , hitWoodwork , goalsPrevented , freeKickGoal , setPieceConversion}}\n",
    " Shooting stats (relationship properties): PLAYED_IN_WITH_STATS {{shotsOffTarget , totalShots , shotsFromOutsideTheBox , blockedShots , shotsOnTarget , shotsFromInsideTheBox , shotFromSetPiece}}\n",
    " Defending stats (relationship properties): PLAYED_IN_WITH_STATS {{clearances , tacklesWon , tacklesWonPercentage , interceptions , errorLeadToShot , errorLeadToGoal , ownGoals , ballRecovery , tackles }}\n",
    " Goalkeeper stats (relationship properties): PLAYED_IN_WITH_STATS {{highClaims , savedShotsFromInsideTheBox , savesParried , penaltyFaced , saves , penaltySave , savesCaught , cleanSheet , successfulRunsOut , savedShotsFromOutsideTheBox , punches , goalsConceded , goalsConcededOutsideTheBox , goalsConcededInsideTheBox , goalsPrevented}}\n",
    " Possession / ball control stats (relationship properties): PLAYED_IN_WITH_STATS {{dispossessed , possessionLost , possessionWonAttThird}}\n",
    " Aggressiveness stats (relationship properties): PLAYED_IN_WITH_STATS {{yellowRedCards , redCards , fouls , yellowCards , directRedCards}}\n",
    " Aerial stats (relationship properties): PLAYED_IN_WITH_STATS {{aerialLost , aerialDuelsWonPercentage}}\n",
    " General stats (relationship properties): PLAYED_IN_WITH_STATS {{touches , totalRating , appearances , type , countRating , totwAppearances , rating , minutesPlayed , substitutionsOut , substitutionsIn , wasFouled}}\n",
    " Dribbling stats (relationship properties): PLAYED_IN_WITH_STATS {{dribbledPast , successfulDribbles , successfulDribblesPercentage}}\n",
    " Attacking  (relationship properties): PLAYED_IN_WITH_STATS {{offsides , penaltyWon}}\n",
    "\n",
    " If question asks for specific aspects generate the query so that only the node and / or relationship properties are turned by the query. \n",
    " For example,\n",
    "\n",
    " Question: \n",
    " How is Kylian Mbappe's physicality in 2023-2024 season\n",
    " Query:\n",
    " MATCH (p:Player {{PLAYER_NAME: 'Kylian Mbappe'}})-[r:PLAYED_IN_WITH_STATS]->(t:Tournament)\n",
    " RETURN\n",
    "  p, \n",
    "  r.totalDuelsWonPercentage AS totalDuelsWonPercentage,\n",
    "  r.aerialDuelsWon AS aerialDuelsWon,\n",
    "  r.totalDuelsWon AS totalDuelsWon,\n",
    "  r.duelLost AS duelLost,\n",
    "  r.groundDuelsWonPercentage AS groundDuelsWonPercentage,\n",
    "  r.groundDuelsWon AS groundDuelsWon,\n",
    "  t;\n",
    "\n",
    " The question will include the name of the player and you will search for it in PLAYER_NAME property of Player nodes.\n",
    " \n",
    "\n",
    " The question is:\n",
    " {question}\n",
    "\n",
    " IMPORTANT NOTE: If the question does not include a football player, then just write 'False' and nothing else. Obey this rule at all cost.\n",
    " \"\"\"\n",
    "\n",
    "ANALYSIS_CYPHER_TEMPLATE = GENERAL_CYPHER_TEMPLATE + ANALYSIS_CYPHER_COMMANDS\n",
    "ANALYSIS_CYPHER_TEMPLATE_W_CONTEXT = GENERAL_CYPHER_TEMPLATE_W_CONTEXT + ANALYSIS_CYPHER_COMMANDS\n",
    "\n",
    "ANALYSIS_CYPHER_PROMPT = PromptTemplate(\n",
    "    input_variables=[\"schema\", \"question\"], template=ANALYSIS_CYPHER_TEMPLATE\n",
    ")\n",
    "\n",
    "ANALYSIS_CYPHER_PROMPT_W_CONTEXT = PromptTemplate(\n",
    "    input_variables=[\"schema\", \"question\"], template=ANALYSIS_CYPHER_TEMPLATE_W_CONTEXT\n",
    ")"
   ]
  },
  {
   "cell_type": "code",
   "execution_count": 27,
   "metadata": {},
   "outputs": [],
   "source": [
    "ANALYSIS_QA_TEMPLATE = \"\"\"You are an assistant that helps to form nice and human understandable answers for football player analysis.\n",
    "The information part contains the provided information that you must use to construct an answer.\n",
    "The information will include various data. Make use of it, analyze the data and report you findings in your answer.\n",
    "Also the information may include multiple instances of the same data field. Account for all instances. Sum, aggregate them if necessary.\n",
    "The provided information is authoritative, you must never doubt it or try to use your internal knowledge to correct it.\n",
    "Make the answer sound as a response to the question. Do not mention that you based the result on the given information.\n",
    "You can use internal knowledge to support your answer ONLY if the question explicity asks you to. If question does not say that, do ONLY and ONLY use context information.\n",
    "\n",
    "If the provided information is empty, say that you don't know the answer.\n",
    "Information:\n",
    "{context}\n",
    "\n",
    "Question: {question}\n",
    "Helpful Answer:\"\"\"\n",
    "\n",
    "ANALYSIS_QA_PROMPT = PromptTemplate(\n",
    "    input_variables=[\"context\", \"question\"], template=ANALYSIS_QA_TEMPLATE\n",
    ")"
   ]
  },
  {
   "cell_type": "markdown",
   "metadata": {},
   "source": [
    "## ANALYSIS CHAIN"
   ]
  },
  {
   "cell_type": "code",
   "execution_count": null,
   "metadata": {},
   "outputs": [],
   "source": [
    "question = \"Evaluate Javi Galan's defending, passing, physical, and aerial stats in La Liga and champions league in the 23/24 season\""
   ]
  },
  {
   "cell_type": "code",
   "execution_count": null,
   "metadata": {},
   "outputs": [],
   "source": [
    "analysis_cypher_chain = LLMChain(\n",
    "    llm=ChatOpenAI(temperature=0, model=\"gpt-4o\"),\n",
    "    prompt=ANALYSIS_CYPHER_PROMPT_W_CONTEXT\n",
    ")"
   ]
  },
  {
   "cell_type": "code",
   "execution_count": null,
   "metadata": {},
   "outputs": [],
   "source": [
    "analysis_cypher_response = analysis_cypher_chain.invoke(\n",
    "    {\n",
    "        \"schema\": graph.schema,\n",
    "        \"question\": question\n",
    "    }\n",
    ")"
   ]
  },
  {
   "cell_type": "code",
   "execution_count": null,
   "metadata": {},
   "outputs": [],
   "source": [
    "print(analysis_cypher_response['text'])"
   ]
  },
  {
   "cell_type": "code",
   "execution_count": null,
   "metadata": {},
   "outputs": [],
   "source": [
    "analysis_context = graph.query(analysis_cypher_response['text'][10:-3])"
   ]
  },
  {
   "cell_type": "code",
   "execution_count": null,
   "metadata": {},
   "outputs": [],
   "source": [
    "analysis_qa_chain = LLMChain(\n",
    "    llm=ChatOpenAI(temperature=0, model='gpt-4o'),\n",
    "    prompt=ANALYSIS_QA_PROMPT\n",
    ")"
   ]
  },
  {
   "cell_type": "code",
   "execution_count": null,
   "metadata": {},
   "outputs": [],
   "source": [
    "analysis_qa_response = analysis_qa_chain.invoke(\n",
    "    {\n",
    "        \"context\": analysis_context,\n",
    "        \"question\": question\n",
    "    }\n",
    ")"
   ]
  },
  {
   "cell_type": "markdown",
   "metadata": {},
   "source": [
    "# COMPARE"
   ]
  },
  {
   "cell_type": "markdown",
   "metadata": {},
   "source": [
    "## COMPARE PROMPTS"
   ]
  },
  {
   "cell_type": "code",
   "execution_count": 71,
   "metadata": {},
   "outputs": [],
   "source": [
    "COMPARISON_CYPHER_COMMANDS = \"\"\"\n",
    " The question will be to analyze and report on multiple (two or more) football player that the user asks for. \n",
    " The question will include the names of the players and you will search for them in PLAYER_NAME property of Player nodes. \n",
    " \n",
    " The user may or may not ask for specific aspects of the players. \n",
    " \n",
    " Below is a list of player aspects that user can ask for and relevant relationship types that holds data for that aspect.\n",
    "\n",
    " injuries (relationship) : HAD_INJURY {{INJURY_SEASON: STRING, INJURY_START_DATE: DATE, INJURY_FINISH_DATE: DATE, INJURY_DURATION: FLOAT, GAMES_MISSED_DURING_INJURY: FLOAT, CLUBS_DURING_INJURY: LIST}}\n",
    " ratings (relationship) : HAS_RATINGS {{RATING_COUNT: INTEGER, RATING_MEAN: FLOAT, RATING_STD_VAR: FLOAT}}\n",
    " attributes / characteristics (node properties) : Player {{ATTACKING: FLOAT, TECHNICAL: FLOAT, TACTICAL: INTEGER, DEFENDING: FLOAT, CREATIVITY: FLOAT}}\n",
    " Physical stats (relationship properties): PLAYED_IN_WITH_STATS {{totalDuelsWonPercentage , aerialDuelsWon , totalDuelsWon , duelLost , groundDuelsWonPercentage , groundDuelsWon}}\n",
    " Passing stats (relationship properties): PLAYED_IN_WITH_STATS {{expectedAssists , totalChippedPasses , totalCross , totalPasses , accuratePasses , totalLongBalls , accurateCrossesPercentage , accuratePassesPercentage , accurateOppositionHalfPasses , totalOwnHalfPasses , inaccuratePasses , accurateLongBallsPercentage , accurateChippedPasses , passToAssist , accurateCrosses , accurateLongBalls , accurateFinalThirdPasses , crossesNotClaimed}}\n",
    " Scoring stats (relationship properties): PLAYED_IN_WITH_STATS {{bigChancesMissed , attemptPenaltyTarget , attemptPenaltyPost , penaltyGoals , headedGoals , goals , penaltyConversion , goalsFromInsideTheBox , penaltiesTaken , goalsFromOutsideTheBox , goalsAssistsSum , scoringFrequency , goalConversionPercentage , goalKicks , hitWoodwork , goalsPrevented , freeKickGoal , setPieceConversion}}\n",
    " Shooting stats (relationship properties): PLAYED_IN_WITH_STATS {{shotsOffTarget , totalShots , shotsFromOutsideTheBox , blockedShots , shotsOnTarget , shotsFromInsideTheBox , shotFromSetPiece}}\n",
    " Defending stats (relationship properties): PLAYED_IN_WITH_STATS {{clearances , tacklesWon , tacklesWonPercentage , interceptions , errorLeadToShot , errorLeadToGoal , ownGoals , ballRecovery , tackles }}\n",
    " Goalkeeper stats (relationship properties): PLAYED_IN_WITH_STATS {{highClaims , savedShotsFromInsideTheBox , savesParried , penaltyFaced , saves , penaltySave , savesCaught , cleanSheet , successfulRunsOut , savedShotsFromOutsideTheBox , punches , goalsConceded , goalsConcededOutsideTheBox , goalsConcededInsideTheBox , goalsPrevented}}\n",
    " Possession / ball control stats (relationship properties): PLAYED_IN_WITH_STATS {{dispossessed , possessionLost , possessionWonAttThird}}\n",
    " Aggressiveness stats (relationship properties): PLAYED_IN_WITH_STATS {{yellowRedCards , redCards , fouls , yellowCards , directRedCards}}\n",
    " Aerial stats (relationship properties): PLAYED_IN_WITH_STATS {{aerialLost , aerialDuelsWonPercentage}}\n",
    " General stats (relationship properties): PLAYED_IN_WITH_STATS {{touches , totalRating , appearances , type , countRating , totwAppearances , rating , minutesPlayed , substitutionsOut , substitutionsIn , wasFouled}}\n",
    " Dribbling stats (relationship properties): PLAYED_IN_WITH_STATS {{dribbledPast , successfulDribbles , successfulDribblesPercentage}}\n",
    " Attacking  (relationship properties): PLAYED_IN_WITH_STATS {{offsides , penaltyWon}}\n",
    "\n",
    " If user question asks for specific aspects generate the query so that only the node and / or relationship properties of those aspects are turned by the query.\n",
    " IMPORTANT NOTE: Some properties are in multiple aspects categories. If the user selects those aspects or does not select an aspect at all, write those properties ONLY ONCE to prevent duplication \n",
    "\n",
    "\n",
    " For every player name in the question write a seperate query and return them in a list\n",
    "\n",
    " For example,\n",
    " Question: \n",
    " Compare Erling Haaland's performance in Premier League and Kylian Mbappe's in Ligue 1\n",
    " Query:\n",
    " [\n",
    "    \"MATCH (p:Player)-[r:PLAYED_IN_WITH_STATS]->(t:Tournament) WHERE p.PLAYER_NAME = 'Kylian Mbappe' AND t.TOURNAMENT_NAME = 'Ligue 1' RETURN p, r.totalDuelsWonPercentage AS totalDuelsWonPercentage, r.aerialDuelsWon AS aerialDuelsWon, r.totalDuelsWon AS totalDuelsWon, r.duelLost AS duelLost, r.groundDuelsWonPercentage AS groundDuelsWonPercentage, r.groundDuelsWon AS groundDuelsWon, r.expectedAssists AS expectedAssists, r.totalChippedPasses AS totalChippedPasses, r.totalCross AS totalCross, r.totalPasses AS totalPasses, r.accuratePasses AS accuratePasses, r.totalLongBalls AS totalLongBalls, r.accurateCrossesPercentage AS accurateCrossesPercentage, r.accuratePassesPercentage AS accuratePassesPercentage, r.accurateOppositionHalfPasses AS accurateOppositionHalfPasses, r.totalOwnHalfPasses AS totalOwnHalfPasses, r.inaccuratePasses AS inaccuratePasses, r.accurateLongBallsPercentage AS accurateLongBallsPercentage, r.accurateChippedPasses AS accurateChippedPasses, r.passToAssist AS passToAssist, r.accurateCrosses AS accurateCrosses, r.accurateLongBalls AS accurateLongBalls, r.accurateFinalThirdPasses AS accurateFinalThirdPasses, r.crossesNotClaimed AS crossesNotClaimed, r.bigChancesMissed AS bigChancesMissed, r.attemptPenaltyTarget AS attemptPenaltyTarget, r.attemptPenaltyPost AS attemptPenaltyPost, r.penaltyGoals AS penaltyGoals, r.goals AS goals, r.penaltyConversion AS penaltyConversion, r.goalsFromInsideTheBox AS goalsFromInsideTheBox, r.penaltiesTaken AS penaltiesTaken, r.goalsFromOutsideTheBox AS goalsFromOutsideTheBox, r.goalsAssistsSum AS goalsAssistsSum, r.scoringFrequency AS scoringFrequency, r.goalConversionPercentage AS goalConversionPercentage, r.goalKicks AS goalKicks, r.hitWoodwork AS hitWoodwork, r.goalsPrevented AS goalsPrevented, r.freeKickGoal AS freeKickGoal, r.setPieceConversion AS setPieceConversion, r.shotsOffTarget AS shotsOffTarget, r.totalShots AS totalShots, r.shotsFromOutsideTheBox AS shotsFromOutsideTheBox, r.blockedShots AS blockedShots, r.shotsOnTarget AS shotsOnTarget, r.shotsFromInsideTheBox AS shotsFromInsideTheBox, r.shotFromSetPiece AS shotFromSetPiece, r.clearances AS clearances, r.tacklesWon AS tacklesWon, r.tacklesWonPercentage AS tacklesWonPercentage, r.interceptions AS interceptions, r.errorLeadToShot AS errorLeadToShot, r.errorLeadToGoal AS errorLeadToGoal, r.ownGoals AS ownGoals, r.ballRecovery AS ballRecovery, r.tackles AS tackles, r.highClaims AS highClaims, r.savedShotsFromInsideTheBox AS savedShotsFromInsideTheBox, r.savesParried AS savesParried, r.penaltyFaced AS penaltyFaced, r.saves AS saves, r.penaltySave AS penaltySave, r.savesCaught AS savesCaught, r.cleanSheet AS cleanSheet, r.successfulRunsOut AS successfulRunsOut, r.savedShotsFromOutsideTheBox AS savedShotsFromOutsideTheBox, r.punches AS punches, r.goalsConceded AS goalsConceded, r.goalsConcededOutsideTheBox AS goalsConcededOutsideTheBox, r.goalsConcededInsideTheBox AS goalsConcededInsideTheBox, r.dispossessed AS dispossessed, r.possessionLost AS possessionLost, r.possessionWonAttThird AS possessionWonAttThird, r.yellowRedCards AS yellowRedCards, r.redCards AS redCards, r.fouls AS fouls, r.yellowCards AS yellowCards, r.directRedCards AS directRedCards, r.aerialLost AS aerialLost, r.aerialDuelsWonPercentage AS aerialDuelsWonPercentage, r.touches AS touches, r.totalRating AS totalRating, r.appearances AS appearances, r.type AS type, r.countRating AS countRating, r.totwAppearances AS totwAppearances, r.rating AS rating, r.minutesPlayed AS minutesPlayed, r.substitutionsOut AS substitutionsOut, r.substitutionsIn AS substitutionsIn, r.wasFouled AS wasFouled, r.dribbledPast AS dribbledPast, r.successfulDribbles AS successfulDribbles, r.successfulDribblesPercentage AS successfulDribblesPercentage, r.offsides AS offsides, r.penaltyWon AS penaltyWon, t;\",\n",
    "    \"MATCH (p:Player)-[r:PLAYED_IN_WITH_STATS]->(t:Tournament) WHERE p.PLAYER_NAME = 'Erling Haaland' AND t.TOURNAMENT_NAME = 'Premier League' RETURN p, r.totalDuelsWonPercentage AS totalDuelsWonPercentage, r.aerialDuelsWon AS aerialDuelsWon, r.totalDuelsWon AS totalDuelsWon, r.duelLost AS duelLost, r.groundDuelsWonPercentage AS groundDuelsWonPercentage, r.groundDuelsWon AS groundDuelsWon, r.expectedAssists AS expectedAssists, r.totalChippedPasses AS totalChippedPasses, r.totalCross AS totalCross, r.totalPasses AS totalPasses, r.accuratePasses AS accuratePasses, r.totalLongBalls AS totalLongBalls, r.accurateCrossesPercentage AS accurateCrossesPercentage, r.accuratePassesPercentage AS accuratePassesPercentage, r.accurateOppositionHalfPasses AS accurateOppositionHalfPasses, r.totalOwnHalfPasses AS totalOwnHalfPasses, r.inaccuratePasses AS inaccuratePasses, r.accurateLongBallsPercentage AS accurateLongBallsPercentage, r.accurateChippedPasses AS accurateChippedPasses, r.passToAssist AS passToAssist, r.accurateCrosses AS accurateCrosses, r.accurateLongBalls AS accurateLongBalls, r.accurateFinalThirdPasses AS accurateFinalThirdPasses, r.crossesNotClaimed AS crossesNotClaimed, r.bigChancesMissed AS bigChancesMissed, r.attemptPenaltyTarget AS attemptPenaltyTarget, r.attemptPenaltyPost AS attemptPenaltyPost, r.penaltyGoals AS penaltyGoals, r.goals AS goals, r.penaltyConversion AS penaltyConversion, r.goalsFromInsideTheBox AS goalsFromInsideTheBox, r.penaltiesTaken AS penaltiesTaken, r.goalsFromOutsideTheBox AS goalsFromOutsideTheBox, r.goalsAssistsSum AS goalsAssistsSum, r.scoringFrequency AS scoringFrequency, r.goalConversionPercentage AS goalConversionPercentage, r.goalKicks AS goalKicks, r.hitWoodwork AS hitWoodwork, r.goalsPrevented AS goalsPrevented, r.freeKickGoal AS freeKickGoal, r.setPieceConversion AS setPieceConversion, r.shotsOffTarget AS shotsOffTarget, r.totalShots AS totalShots, r.shotsFromOutsideTheBox AS shotsFromOutsideTheBox, r.blockedShots AS blockedShots, r.shotsOnTarget AS shotsOnTarget, r.shotsFromInsideTheBox AS shotsFromInsideTheBox, r.shotFromSetPiece AS shotFromSetPiece, r.clearances AS clearances, r.tacklesWon AS tacklesWon, r.tacklesWonPercentage AS tacklesWonPercentage, r.interceptions AS interceptions, r.errorLeadToShot AS errorLeadToShot, r.errorLeadToGoal AS errorLeadToGoal, r.ownGoals AS ownGoals, r.ballRecovery AS ballRecovery, r.tackles AS tackles, r.highClaims AS highClaims, r.savedShotsFromInsideTheBox AS savedShotsFromInsideTheBox, r.savesParried AS savesParried, r.penaltyFaced AS penaltyFaced, r.saves AS saves, r.penaltySave AS penaltySave, r.savesCaught AS savesCaught, r.cleanSheet AS cleanSheet, r.successfulRunsOut AS successfulRunsOut, r.savedShotsFromOutsideTheBox AS savedShotsFromOutsideTheBox, r.punches AS punches, r.goalsConceded AS goalsConceded, r.goalsConcededOutsideTheBox AS goalsConcededOutsideTheBox, r.goalsConcededInsideTheBox AS goalsConcededInsideTheBox, r.dispossessed AS dispossessed, r.possessionLost AS possessionLost, r.possessionWonAttThird AS possessionWonAttThird, r.yellowRedCards AS yellowRedCards, r.redCards AS redCards, r.fouls AS fouls, r.yellowCards AS yellowCards, r.directRedCards AS directRedCards, r.aerialLost AS aerialLost, r.aerialDuelsWonPercentage AS aerialDuelsWonPercentage, r.touches AS touches, r.totalRating AS totalRating, r.appearances AS appearances, r.type AS type, r.countRating AS countRating, r.totwAppearances AS totwAppearances, r.rating AS rating, r.minutesPlayed AS minutesPlayed, r.substitutionsOut AS substitutionsOut, r.substitutionsIn AS substitutionsIn, r.wasFouled AS wasFouled, r.dribbledPast AS dribbledPast, r.successfulDribbles AS successfulDribbles, r.successfulDribblesPercentage AS successfulDribblesPercentage, r.offsides AS offsides, r.penaltyWon AS penaltyWon, t;\"\n",
    " ]\n",
    "\n",
    " The question will include the name of the player and you will search for it in PLAYER_NAME property of Player nodes.\n",
    "\n",
    " The question is:\n",
    " {question}\n",
    "\n",
    " IMPORTANT NOTE: If the question does not include multiple football player names, then just write 'False' and nothing else. Obey this rule at all cost.\n",
    "\n",
    "\"\"\"\n",
    "\n",
    "COMPARISON_CYPHER_TEMPLATE = GENERAL_CYPHER_TEMPLATE + COMPARISON_CYPHER_COMMANDS\n",
    "COMPARISON_CYPHER_TEMPLATE_W_CONTEXT = GENERAL_CYPHER_TEMPLATE_W_CONTEXT + COMPARISON_CYPHER_COMMANDS\n",
    "\n",
    "COMPARISON_CYPHER_PROMPT = PromptTemplate(\n",
    "    input_variables=[\"schema\", \"question\"], template=COMPARISON_CYPHER_TEMPLATE\n",
    ")\n",
    "\n",
    "COMPARISON_CYPHER_PROMPT_W_CONTEXT = PromptTemplate(\n",
    "    input_variables=[\"schema\", \"question\"], template=COMPARISON_CYPHER_TEMPLATE_W_CONTEXT\n",
    ")"
   ]
  },
  {
   "cell_type": "code",
   "execution_count": 72,
   "metadata": {},
   "outputs": [],
   "source": [
    "COMPARISON_QA_TEMPLATE = \"\"\"You are an assistant that helps to form nice and human understandable answers for football player analysis.\n",
    "The information part contains the provided information that you must use to construct an answer.\n",
    "The information will include various data. Make use of it, analyze the data and report you findings in your answer.\n",
    "The information will consist of stats of multiple football players and you will be asked to compare them in some way. You can group the stats as passing, attacking, defense etc. to better format your answer.\n",
    "Also the information may include multiple instances of the same data field. Account for all instances. Sum, aggregate them if necessary.\n",
    "The provided information is authoritative, you must never doubt it or try to use your internal knowledge to correct it.\n",
    "Make the answer sound as a response to the question. Do not mention that you based the result on the given information.\n",
    "You can use internal knowledge to support your answer ONLY if the question explicity asks you to. If question does not say that, do ONLY and ONLY use context information.\n",
    "\n",
    "If the provided information is empty, say that you don't know the answer.\n",
    "Information:\n",
    "{context}\n",
    "\n",
    "Question: {question}\n",
    "Helpful Answer:\"\"\"\n",
    "\n",
    "COMPARISON_QA_PROMPT = PromptTemplate(\n",
    "    input_variables=[\"context\", \"question\"], template=COMPARISON_QA_TEMPLATE\n",
    ")"
   ]
  },
  {
   "cell_type": "markdown",
   "metadata": {},
   "source": [
    "## COMPARE CHAIN"
   ]
  },
  {
   "cell_type": "code",
   "execution_count": 73,
   "metadata": {},
   "outputs": [],
   "source": [
    "question = \"Compare Arthur and Weston McKennie's Serie A 23/24 performances\" # in in terms of passing, defending, and physicality"
   ]
  },
  {
   "cell_type": "code",
   "execution_count": 74,
   "metadata": {},
   "outputs": [],
   "source": [
    "comparison_cypher_chain = LLMChain(\n",
    "    llm=ChatOpenAI(temperature=0, model=\"gpt-4o\"),\n",
    "    prompt=COMPARISON_CYPHER_PROMPT_W_CONTEXT\n",
    ")"
   ]
  },
  {
   "cell_type": "code",
   "execution_count": 75,
   "metadata": {},
   "outputs": [],
   "source": [
    "comparison_cypher_response = comparison_cypher_chain.invoke(\n",
    "    {\n",
    "        \"schema\": graph.schema,\n",
    "        \"question\": question\n",
    "    }\n",
    ")"
   ]
  },
  {
   "cell_type": "code",
   "execution_count": 76,
   "metadata": {},
   "outputs": [
    {
     "name": "stdout",
     "output_type": "stream",
     "text": [
      "[\n",
      "    \"MATCH (p:Player)-[r:PLAYED_IN_WITH_STATS]->(t:Tournament) WHERE p.PLAYER_NAME = 'Arthur' AND t.TOURNAMENT_NAME = 'Serie A' AND r.SEASON = '23/24' RETURN p, r.totalDuelsWonPercentage AS totalDuelsWonPercentage, r.aerialDuelsWon AS aerialDuelsWon, r.totalDuelsWon AS totalDuelsWon, r.duelLost AS duelLost, r.groundDuelsWonPercentage AS groundDuelsWonPercentage, r.groundDuelsWon AS groundDuelsWon, r.expectedAssists AS expectedAssists, r.totalChippedPasses AS totalChippedPasses, r.totalCross AS totalCross, r.totalPasses AS totalPasses, r.accuratePasses AS accuratePasses, r.totalLongBalls AS totalLongBalls, r.accurateCrossesPercentage AS accurateCrossesPercentage, r.accuratePassesPercentage AS accuratePassesPercentage, r.accurateOppositionHalfPasses AS accurateOppositionHalfPasses, r.totalOwnHalfPasses AS totalOwnHalfPasses, r.inaccuratePasses AS inaccuratePasses, r.accurateLongBallsPercentage AS accurateLongBallsPercentage, r.accurateChippedPasses AS accurateChippedPasses, r.passToAssist AS passToAssist, r.accurateCrosses AS accurateCrosses, r.accurateLongBalls AS accurateLongBalls, r.accurateFinalThirdPasses AS accurateFinalThirdPasses, r.crossesNotClaimed AS crossesNotClaimed, r.bigChancesMissed AS bigChancesMissed, r.attemptPenaltyTarget AS attemptPenaltyTarget, r.attemptPenaltyPost AS attemptPenaltyPost, r.penaltyGoals AS penaltyGoals, r.goals AS goals, r.penaltyConversion AS penaltyConversion, r.goalsFromInsideTheBox AS goalsFromInsideTheBox, r.penaltiesTaken AS penaltiesTaken, r.goalsFromOutsideTheBox AS goalsFromOutsideTheBox, r.goalsAssistsSum AS goalsAssistsSum, r.scoringFrequency AS scoringFrequency, r.goalConversionPercentage AS goalConversionPercentage, r.goalKicks AS goalKicks, r.hitWoodwork AS hitWoodwork, r.goalsPrevented AS goalsPrevented, r.freeKickGoal AS freeKickGoal, r.setPieceConversion AS setPieceConversion, r.shotsOffTarget AS shotsOffTarget, r.totalShots AS totalShots, r.shotsFromOutsideTheBox AS shotsFromOutsideTheBox, r.blockedShots AS blockedShots, r.shotsOnTarget AS shotsOnTarget, r.shotsFromInsideTheBox AS shotsFromInsideTheBox, r.shotFromSetPiece AS shotFromSetPiece, r.clearances AS clearances, r.tacklesWon AS tacklesWon, r.tacklesWonPercentage AS tacklesWonPercentage, r.interceptions AS interceptions, r.errorLeadToShot AS errorLeadToShot, r.errorLeadToGoal AS errorLeadToGoal, r.ownGoals AS ownGoals, r.ballRecovery AS ballRecovery, r.tackles AS tackles, r.highClaims AS highClaims, r.savedShotsFromInsideTheBox AS savedShotsFromInsideTheBox, r.savesParried AS savesParried, r.penaltyFaced AS penaltyFaced, r.saves AS saves, r.penaltySave AS penaltySave, r.savesCaught AS savesCaught, r.cleanSheet AS cleanSheet, r.successfulRunsOut AS successfulRunsOut, r.savedShotsFromOutsideTheBox AS savedShotsFromOutsideTheBox, r.punches AS punches, r.goalsConceded AS goalsConceded, r.goalsConcededOutsideTheBox AS goalsConcededOutsideTheBox, r.goalsConcededInsideTheBox AS goalsConcededInsideTheBox, r.dispossessed AS dispossessed, r.possessionLost AS possessionLost, r.possessionWonAttThird AS possessionWonAttThird, r.yellowRedCards AS yellowRedCards, r.redCards AS redCards, r.fouls AS fouls, r.yellowCards AS yellowCards, r.directRedCards AS directRedCards, r.aerialLost AS aerialLost, r.aerialDuelsWonPercentage AS aerialDuelsWonPercentage, r.touches AS touches, r.totalRating AS totalRating, r.appearances AS appearances, r.type AS type, r.countRating AS countRating, r.totwAppearances AS totwAppearances, r.rating AS rating, r.minutesPlayed AS minutesPlayed, r.substitutionsOut AS substitutionsOut, r.substitutionsIn AS substitutionsIn, r.wasFouled AS wasFouled, r.dribbledPast AS dribbledPast, r.successfulDribbles AS successfulDribbles, r.successfulDribblesPercentage AS successfulDribblesPercentage, r.offsides AS offsides, r.penaltyWon AS penaltyWon, t;\",\n",
      "    \"MATCH (p:Player)-[r:PLAYED_IN_WITH_STATS]->(t:Tournament) WHERE p.PLAYER_NAME = 'Weston McKennie' AND t.TOURNAMENT_NAME = 'Serie A' AND r.SEASON = '23/24' RETURN p, r.totalDuelsWonPercentage AS totalDuelsWonPercentage, r.aerialDuelsWon AS aerialDuelsWon, r.totalDuelsWon AS totalDuelsWon, r.duelLost AS duelLost, r.groundDuelsWonPercentage AS groundDuelsWonPercentage, r.groundDuelsWon AS groundDuelsWon, r.expectedAssists AS expectedAssists, r.totalChippedPasses AS totalChippedPasses, r.totalCross AS totalCross, r.totalPasses AS totalPasses, r.accuratePasses AS accuratePasses, r.totalLongBalls AS totalLongBalls, r.accurateCrossesPercentage AS accurateCrossesPercentage, r.accuratePassesPercentage AS accuratePassesPercentage, r.accurateOppositionHalfPasses AS accurateOppositionHalfPasses, r.totalOwnHalfPasses AS totalOwnHalfPasses, r.inaccuratePasses AS inaccuratePasses, r.accurateLongBallsPercentage AS accurateLongBallsPercentage, r.accurateChippedPasses AS accurateChippedPasses, r.passToAssist AS passToAssist, r.accurateCrosses AS accurateCrosses, r.accurateLongBalls AS accurateLongBalls, r.accurateFinalThirdPasses AS accurateFinalThirdPasses, r.crossesNotClaimed AS crossesNotClaimed, r.bigChancesMissed AS bigChancesMissed, r.attemptPenaltyTarget AS attemptPenaltyTarget, r.attemptPenaltyPost AS attemptPenaltyPost, r.penaltyGoals AS penaltyGoals, r.goals AS goals, r.penaltyConversion AS penaltyConversion, r.goalsFromInsideTheBox AS goalsFromInsideTheBox, r.penaltiesTaken AS penaltiesTaken, r.goalsFromOutsideTheBox AS goalsFromOutsideTheBox, r.goalsAssistsSum AS goalsAssistsSum, r.scoringFrequency AS scoringFrequency, r.goalConversionPercentage AS goalConversionPercentage, r.goalKicks AS goalKicks, r.hitWoodwork AS hitWoodwork, r.goalsPrevented AS goalsPrevented, r.freeKickGoal AS freeKickGoal, r.setPieceConversion AS setPieceConversion, r.shotsOffTarget AS shotsOffTarget, r.totalShots AS totalShots, r.shotsFromOutsideTheBox AS shotsFromOutsideTheBox, r.blockedShots AS blockedShots, r.shotsOnTarget AS shotsOnTarget, r.shotsFromInsideTheBox AS shotsFromInsideTheBox, r.shotFromSetPiece AS shotFromSetPiece, r.clearances AS clearances, r.tacklesWon AS tacklesWon, r.tacklesWonPercentage AS tacklesWonPercentage, r.interceptions AS interceptions, r.errorLeadToShot AS errorLeadToShot, r.errorLeadToGoal AS errorLeadToGoal, r.ownGoals AS ownGoals, r.ballRecovery AS ballRecovery, r.tackles AS tackles, r.highClaims AS highClaims, r.savedShotsFromInsideTheBox AS savedShotsFromInsideTheBox, r.savesParried AS savesParried, r.penaltyFaced AS penaltyFaced, r.saves AS saves, r.penaltySave AS penaltySave, r.savesCaught AS savesCaught, r.cleanSheet AS cleanSheet, r.successfulRunsOut AS successfulRunsOut, r.savedShotsFromOutsideTheBox AS savedShotsFromOutsideTheBox, r.punches AS punches, r.goalsConceded AS goalsConceded, r.goalsConcededOutsideTheBox AS goalsConcededOutsideTheBox, r.goalsConcededInsideTheBox AS goalsConcededInsideTheBox, r.dispossessed AS dispossessed, r.possessionLost AS possessionLost, r.possessionWonAttThird AS possessionWonAttThird, r.yellowRedCards AS yellowRedCards, r.redCards AS redCards, r.fouls AS fouls, r.yellowCards AS yellowCards, r.directRedCards AS directRedCards, r.aerialLost AS aerialLost, r.aerialDuelsWonPercentage AS aerialDuelsWonPercentage, r.touches AS touches, r.totalRating AS totalRating, r.appearances AS appearances, r.type AS type, r.countRating AS countRating, r.totwAppearances AS totwAppearances, r.rating AS rating, r.minutesPlayed AS minutesPlayed, r.substitutionsOut AS substitutionsOut, r.substitutionsIn AS substitutionsIn, r.wasFouled AS wasFouled, r.dribbledPast AS dribbledPast, r.successfulDribbles AS successfulDribbles, r.successfulDribblesPercentage AS successfulDribblesPercentage, r.offsides AS offsides, r.penaltyWon AS penaltyWon, t;\"\n",
      "]\n"
     ]
    }
   ],
   "source": [
    "print(comparison_cypher_response['text'])"
   ]
  },
  {
   "cell_type": "code",
   "execution_count": 77,
   "metadata": {},
   "outputs": [],
   "source": [
    "comparison_cypher_list = ast.literal_eval(comparison_cypher_response['text'])"
   ]
  },
  {
   "cell_type": "code",
   "execution_count": 78,
   "metadata": {},
   "outputs": [
    {
     "name": "stdout",
     "output_type": "stream",
     "text": [
      "MATCH (p:Player)-[r:PLAYED_IN_WITH_STATS]->(t:Tournament) WHERE p.PLAYER_NAME = 'Arthur' AND t.TOURNAMENT_NAME = 'Serie A' AND r.SEASON = '23/24' RETURN p, r.totalDuelsWonPercentage AS totalDuelsWonPercentage, r.aerialDuelsWon AS aerialDuelsWon, r.totalDuelsWon AS totalDuelsWon, r.duelLost AS duelLost, r.groundDuelsWonPercentage AS groundDuelsWonPercentage, r.groundDuelsWon AS groundDuelsWon, r.expectedAssists AS expectedAssists, r.totalChippedPasses AS totalChippedPasses, r.totalCross AS totalCross, r.totalPasses AS totalPasses, r.accuratePasses AS accuratePasses, r.totalLongBalls AS totalLongBalls, r.accurateCrossesPercentage AS accurateCrossesPercentage, r.accuratePassesPercentage AS accuratePassesPercentage, r.accurateOppositionHalfPasses AS accurateOppositionHalfPasses, r.totalOwnHalfPasses AS totalOwnHalfPasses, r.inaccuratePasses AS inaccuratePasses, r.accurateLongBallsPercentage AS accurateLongBallsPercentage, r.accurateChippedPasses AS accurateChippedPasses, r.passToAssist AS passToAssist, r.accurateCrosses AS accurateCrosses, r.accurateLongBalls AS accurateLongBalls, r.accurateFinalThirdPasses AS accurateFinalThirdPasses, r.crossesNotClaimed AS crossesNotClaimed, r.bigChancesMissed AS bigChancesMissed, r.attemptPenaltyTarget AS attemptPenaltyTarget, r.attemptPenaltyPost AS attemptPenaltyPost, r.penaltyGoals AS penaltyGoals, r.goals AS goals, r.penaltyConversion AS penaltyConversion, r.goalsFromInsideTheBox AS goalsFromInsideTheBox, r.penaltiesTaken AS penaltiesTaken, r.goalsFromOutsideTheBox AS goalsFromOutsideTheBox, r.goalsAssistsSum AS goalsAssistsSum, r.scoringFrequency AS scoringFrequency, r.goalConversionPercentage AS goalConversionPercentage, r.goalKicks AS goalKicks, r.hitWoodwork AS hitWoodwork, r.goalsPrevented AS goalsPrevented, r.freeKickGoal AS freeKickGoal, r.setPieceConversion AS setPieceConversion, r.shotsOffTarget AS shotsOffTarget, r.totalShots AS totalShots, r.shotsFromOutsideTheBox AS shotsFromOutsideTheBox, r.blockedShots AS blockedShots, r.shotsOnTarget AS shotsOnTarget, r.shotsFromInsideTheBox AS shotsFromInsideTheBox, r.shotFromSetPiece AS shotFromSetPiece, r.clearances AS clearances, r.tacklesWon AS tacklesWon, r.tacklesWonPercentage AS tacklesWonPercentage, r.interceptions AS interceptions, r.errorLeadToShot AS errorLeadToShot, r.errorLeadToGoal AS errorLeadToGoal, r.ownGoals AS ownGoals, r.ballRecovery AS ballRecovery, r.tackles AS tackles, r.highClaims AS highClaims, r.savedShotsFromInsideTheBox AS savedShotsFromInsideTheBox, r.savesParried AS savesParried, r.penaltyFaced AS penaltyFaced, r.saves AS saves, r.penaltySave AS penaltySave, r.savesCaught AS savesCaught, r.cleanSheet AS cleanSheet, r.successfulRunsOut AS successfulRunsOut, r.savedShotsFromOutsideTheBox AS savedShotsFromOutsideTheBox, r.punches AS punches, r.goalsConceded AS goalsConceded, r.goalsConcededOutsideTheBox AS goalsConcededOutsideTheBox, r.goalsConcededInsideTheBox AS goalsConcededInsideTheBox, r.dispossessed AS dispossessed, r.possessionLost AS possessionLost, r.possessionWonAttThird AS possessionWonAttThird, r.yellowRedCards AS yellowRedCards, r.redCards AS redCards, r.fouls AS fouls, r.yellowCards AS yellowCards, r.directRedCards AS directRedCards, r.aerialLost AS aerialLost, r.aerialDuelsWonPercentage AS aerialDuelsWonPercentage, r.touches AS touches, r.totalRating AS totalRating, r.appearances AS appearances, r.type AS type, r.countRating AS countRating, r.totwAppearances AS totwAppearances, r.rating AS rating, r.minutesPlayed AS minutesPlayed, r.substitutionsOut AS substitutionsOut, r.substitutionsIn AS substitutionsIn, r.wasFouled AS wasFouled, r.dribbledPast AS dribbledPast, r.successfulDribbles AS successfulDribbles, r.successfulDribblesPercentage AS successfulDribblesPercentage, r.offsides AS offsides, r.penaltyWon AS penaltyWon, t;\n"
     ]
    }
   ],
   "source": [
    "print(comparison_cypher_list[0])"
   ]
  },
  {
   "cell_type": "code",
   "execution_count": 79,
   "metadata": {},
   "outputs": [],
   "source": [
    "comparison_context = [graph.query(cypher_query) for cypher_query in comparison_cypher_list]"
   ]
  },
  {
   "cell_type": "code",
   "execution_count": 83,
   "metadata": {},
   "outputs": [],
   "source": [
    "comparison_qa_chain = LLMChain(\n",
    "    llm=ChatOpenAI(temperature=0, model='gpt-4o'),\n",
    "    prompt=COMPARISON_QA_PROMPT\n",
    ")"
   ]
  },
  {
   "cell_type": "code",
   "execution_count": 84,
   "metadata": {},
   "outputs": [],
   "source": [
    "comparison_qa_response = comparison_qa_chain.invoke(\n",
    "    {\n",
    "        \"context\": comparison_context,\n",
    "        \"question\": question\n",
    "    }\n",
    ")"
   ]
  },
  {
   "cell_type": "code",
   "execution_count": 85,
   "metadata": {},
   "outputs": [
    {
     "data": {
      "text/plain": [
       "\"Let's compare the performances of Arthur and Weston McKennie in the Serie A 23/24 season across various aspects:\\n\\n### Passing\\n- **Arthur**:\\n  - Total Passes: 1466\\n  - Accurate Passes: 1350 (92.09% accuracy)\\n  - Accurate Opposition Half Passes: 774\\n  - Accurate Final Third Passes: 342\\n  - Total Long Balls: 132 (68.94% accuracy)\\n  - Total Crosses: 21 (42.86% accuracy)\\n  - Total Chipped Passes: 62 (39 accurate)\\n\\n- **Weston McKennie**:\\n  - Total Passes: 941\\n  - Accurate Passes: 760 (80.77% accuracy)\\n  - Accurate Opposition Half Passes: 490\\n  - Accurate Final Third Passes: 267\\n  - Total Long Balls: 45 (62.22% accuracy)\\n  - Total Crosses: 59 (23.73% accuracy)\\n  - Total Chipped Passes: 65 (38 accurate)\\n\\n### Attacking\\n- **Arthur**:\\n  - Goals: 2\\n  - Assists: 3\\n  - Total Shots: 12 (6 on target)\\n  - Shots from Inside the Box: 2\\n  - Shots from Outside the Box: 10\\n  - Big Chances Missed: 0\\n\\n- **Weston McKennie**:\\n  - Goals: 0\\n  - Assists: 7\\n  - Total Shots: 23 (7 on target)\\n  - Shots from Inside the Box: 21\\n  - Shots from Outside the Box: 2\\n  - Big Chances Missed: 4\\n\\n### Defense\\n- **Arthur**:\\n  - Tackles: 45 (30 won, 66.67% success)\\n  - Interceptions: 18\\n  - Clearances: 8\\n  - Ball Recoveries: 141\\n  - Duels Won: 110 (65.09% success)\\n  - Aerial Duels Won: 7 (50% success)\\n  - Ground Duels Won: 103 (66.45% success)\\n\\n- **Weston McKennie**:\\n  - Tackles: 48 (29 won, 60.42% success)\\n  - Interceptions: 18\\n  - Clearances: 61\\n  - Ball Recoveries: 115\\n  - Duels Won: 115 (50% success)\\n  - Aerial Duels Won: 38 (52.78% success)\\n  - Ground Duels Won: 77 (48.73% success)\\n\\n### Discipline\\n- **Arthur**:\\n  - Yellow Cards: 2\\n  - Red Cards: 0\\n  - Fouls: 18\\n  - Was Fouled: 47\\n\\n- **Weston McKennie**:\\n  - Yellow Cards: 6\\n  - Red Cards: 0\\n  - Fouls: 23\\n  - Was Fouled: 12\\n\\n### Overall Performance\\n- **Arthur**:\\n  - Appearances: 33\\n  - Minutes Played: 1993\\n  - Average Rating: 7.12\\n  - Team of the Week Appearances: 3\\n\\n- **Weston McKennie**:\\n  - Appearances: 34\\n  - Minutes Played: 2599\\n  - Average Rating: 7.0\\n  - Team of the Week Appearances: 1\\n\\n### Summary\\n- **Passing**: Arthur excels with a higher number of total passes and better accuracy.\\n- **Attacking**: McKennie has more assists, but Arthur has scored goals.\\n- **Defense**: McKennie has more clearances and aerial duels won, while Arthur has a higher success rate in ground duels and more ball recoveries.\\n- **Discipline**: Arthur has fewer yellow cards and fouls but is fouled more often.\\n- **Overall**: Arthur has a slightly higher average rating and more Team of the Week appearances, but McKennie has played more minutes and matches.\\n\\nBoth players bring different strengths to the team, with Arthur being more effective in passing and ball recovery, while McKennie contributes significantly in defense and assists.\""
      ]
     },
     "execution_count": 85,
     "metadata": {},
     "output_type": "execute_result"
    }
   ],
   "source": [
    "comparison_qa_response['text']"
   ]
  },
  {
   "cell_type": "markdown",
   "metadata": {},
   "source": [
    "# FIND"
   ]
  },
  {
   "cell_type": "markdown",
   "metadata": {},
   "source": [
    "## FIND PROMPTS"
   ]
  },
  {
   "cell_type": "code",
   "execution_count": 95,
   "metadata": {},
   "outputs": [],
   "source": [
    "FIND_CYPHER_COMMANDS = \"\"\"\n",
    "If the following descriptions or their synonyms / paraphrases are mentioned in the question, look for the provided properties and/or relationships. The variables in user question will be denoted between <> For example, if user question is \"plays for Real Madrid\", template is \"plays for <name of a football team>\":\n",
    "\"aged <age number>\" : PLAYER_BIRTH_DATE of Player node. The current year is 2024. Subtrack and find the age. If age is below 25, consider the player young.\n",
    "\"Played in <name of a tournament>\" : PLAYED_IN_WITH_STATS relationship exists to the Tournament node specified. Property to match is TOURNAMENT_SLUG. \n",
    "\"Plays for <name of a football team>\" : PLAYS_FOR relationship exists to the Team node specified. Property to match is TEAM_SLUG\n",
    "\"worth <a number of value>\" : PLAYER_MARKET_VALUE property of Player node. If the user question number is written out like 1m, 1M, 1 million, put the actual number in the query, which is 1000000. If user says \"around X\", it means \"between X-2000000 and X+2000000\"\n",
    "\"tall\" : PLAYER_HEIGHT property of Player node is above 180\n",
    "Note: Normalise user input for names. For example, if user input is \"plays for Çaykur Rizespor\", query should have \"t:Team {{TEAM_NAME : \"caykur-rizespor\"}}\"\n",
    "\n",
    "After applying these filters, return all properties and relationships of the matching nodes.\n",
    "IMPORTANT NOTE: If the user query includes subjective descriptions such as fast, strong, intelligent, etc. ignore them\n",
    "\n",
    "Note: Do not include any explanations or apologies in your responses.\n",
    "Do not respond to any questions that might ask anything else than for you to construct a Cypher statement.\n",
    "Do not include any text except the generated Cypher statement.\n",
    "After generating the query according to user question criteria, return all relationships of those nodes.\n",
    "Examples: Here are a few examples of generated Cypher statements for particular questions:\n",
    "\n",
    "Question: Players with good physique that play for Real Madrid as a defender?\n",
    "Query:\n",
    "MATCH (p:Player)-[:PLAYS_FOR]->(t:Team {{TEAM_NAME: 'Real Madrid'}})\n",
    "MATCH (p)-[:PLAYS_IN_THE_POSITION_OF]->(pos:Position {{MAIN_POSITION: 'Defender'}})\n",
    "MATCH (p)-[r]->(n)\n",
    "RETURN p\n",
    "\n",
    "Question: Find intelligent number 8 players worth around 10 million from top 5 leagues aged between 20-27\n",
    "Query:\n",
    "MATCH (p)-[:PLAYS_IN_THE_POSITION_OF]->(pos:Position {{POSITION_NAME: 'Central Midfield'}})\n",
    "WHERE 8000000 < p.PLAYER_MARKET_VALUE < 12000000  \n",
    "AND p.LEAGUE_NAME IN [\"LaLiga\", \"SerieA\", \"PremierLeague\", \"Bundesliga\", \"Ligue1\"] \n",
    "AND date(\"1997-01-01\") < p.PLAYER_BIRTH_DATE < date(\"2005-01-01\")\n",
    "RETURN p\n",
    "\n",
    "The question is:\n",
    "{question}\n",
    "\"\"\"\n",
    "\n",
    "FIND_CYPHER_TEMPLATE = GENERAL_CYPHER_TEMPLATE + FIND_CYPHER_COMMANDS\n",
    "FIND_CYPHER_TEMPLATE_W_CONTEXT = GENERAL_CYPHER_TEMPLATE_W_CONTEXT + FIND_CYPHER_COMMANDS\n",
    "\n",
    "FIND_CYPHER_PROMPT = PromptTemplate(\n",
    "    input_variables=[\"schema\", \"question\"], template=FIND_CYPHER_TEMPLATE\n",
    ")\n",
    "\n",
    "FIND_CYPHER_PROMPT_W_CONTEXT = PromptTemplate(\n",
    "    input_variables=[\"schema\", \"question\"], template=FIND_CYPHER_TEMPLATE_W_CONTEXT\n",
    ")"
   ]
  },
  {
   "cell_type": "code",
   "execution_count": 98,
   "metadata": {},
   "outputs": [],
   "source": [
    "FIND_QA_TEMPLATE = \"\"\"You are an assistant that helps to form nice and human understandable answers for football player analysis.\n",
    "The information part contains the provided information that you must use to construct an answer.\n",
    "The information will include various data. Make use of it, analyze the data and report you findings in your answer.\n",
    "The information will consist of some players and their attributes. List them with brief descriptions of the players. You can group the players based on the criteria mentioned in the question.\n",
    "For example, if question includes \"from top 5 league\", you can group the players based on the league they are playing.\n",
    "\n",
    "The provided information is authoritative, you must never doubt it or try to use your internal knowledge to correct it.\n",
    "Make the answer sound as a response to the question. Do not mention that you based the result on the given information.\n",
    "You can use internal knowledge to support your answer ONLY if the question explicity asks you to. If question does not say that, do ONLY and ONLY use context information.\n",
    "\n",
    "If the provided information is empty, say that you don't know the answer.\n",
    "Information:\n",
    "{context}\n",
    "\n",
    "Question: {question}\n",
    "Helpful Answer:\"\"\"\n",
    "\n",
    "FIND_QA_PROMPT = PromptTemplate(\n",
    "    input_variables=[\"context\", \"question\"], template=FIND_QA_TEMPLATE\n",
    ")"
   ]
  },
  {
   "cell_type": "markdown",
   "metadata": {},
   "source": [
    "## FIND CHAIN"
   ]
  },
  {
   "cell_type": "code",
   "execution_count": 99,
   "metadata": {},
   "outputs": [],
   "source": [
    "find_cypher_chain = LLMChain(\n",
    "    llm=ChatOpenAI(temperature=0, model=\"gpt-4o\"),\n",
    "    prompt=FIND_CYPHER_PROMPT_W_CONTEXT\n",
    ")"
   ]
  },
  {
   "cell_type": "code",
   "execution_count": 100,
   "metadata": {},
   "outputs": [],
   "source": [
    "question = \"Find left back players from top 5 league worth around 10 million \""
   ]
  },
  {
   "cell_type": "code",
   "execution_count": 101,
   "metadata": {},
   "outputs": [],
   "source": [
    "find_cypher_response = find_cypher_chain.invoke(\n",
    "    {\n",
    "        \"schema\": graph.schema,\n",
    "        \"question\": question\n",
    "    }\n",
    ")"
   ]
  },
  {
   "cell_type": "code",
   "execution_count": 102,
   "metadata": {},
   "outputs": [
    {
     "name": "stdout",
     "output_type": "stream",
     "text": [
      "```cypher\n",
      "MATCH (p:Player)-[:PLAYS_IN_THE_POSITION_OF]->(pos:Position {POSITION_NAME: 'Left Back'})\n",
      "WHERE 8000000 < p.PLAYER_MARKET_VALUE < 12000000  \n",
      "AND p.LEAGUE_NAME IN [\"LaLiga\", \"Serie A\", \"Premier League\", \"Bundesliga\", \"Ligue 1\"]\n",
      "MATCH (p)-[r]->(n)\n",
      "RETURN p, r, n\n",
      "```\n"
     ]
    }
   ],
   "source": [
    "print(find_cypher_response['text'])\n"
   ]
  },
  {
   "cell_type": "code",
   "execution_count": null,
   "metadata": {},
   "outputs": [],
   "source": []
  },
  {
   "cell_type": "markdown",
   "metadata": {},
   "source": [
    "# Bellingham vs Musiala"
   ]
  },
  {
   "cell_type": "code",
   "execution_count": null,
   "metadata": {},
   "outputs": [],
   "source": []
  }
 ],
 "metadata": {
  "kernelspec": {
   "display_name": ".env",
   "language": "python",
   "name": "python3"
  },
  "language_info": {
   "codemirror_mode": {
    "name": "ipython",
    "version": 3
   },
   "file_extension": ".py",
   "mimetype": "text/x-python",
   "name": "python",
   "nbconvert_exporter": "python",
   "pygments_lexer": "ipython3",
   "version": "3.11.0"
  }
 },
 "nbformat": 4,
 "nbformat_minor": 2
}
